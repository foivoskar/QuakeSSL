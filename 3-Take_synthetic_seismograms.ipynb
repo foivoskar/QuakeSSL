{
 "cells": [
  {
   "cell_type": "markdown",
   "metadata": {},
   "source": [
    "# STEP 3 - Take synthetic seismograms for the quakes in the catalog"
   ]
  },
  {
   "cell_type": "markdown",
   "metadata": {},
   "source": [
    "The script uses the catalogs that have been already generated (as GCMT solution files) in the previous step, in order to download synthetic data from the IRIS instaseis databases. The data are obtained for stations with epicentral distances 5, 10, and 15 degrees, with backazimuths of 0, 45, and 90 degrees. It saves the displacement seismograms for Z, R, and T components in a unique mseed file."
   ]
  },
  {
   "cell_type": "markdown",
   "metadata": {},
   "source": [
    "© Foivos Karakostas - UCL, 2024"
   ]
  },
  {
   "cell_type": "markdown",
   "metadata": {},
   "source": [
    "-----------------------------------------"
   ]
  },
  {
   "cell_type": "markdown",
   "metadata": {},
   "source": [
    "##### User inputs"
   ]
  },
  {
   "cell_type": "code",
   "execution_count": 52,
   "metadata": {},
   "outputs": [],
   "source": [
    "synt_model = 'iasp91_2s'\n",
    "taup_model = 'iasp91';\n",
    "threshold = 45\n",
    "components = 'ZNE'\n",
    "units = 'displacement'\n",
    "duration = 600"
   ]
  },
  {
   "cell_type": "markdown",
   "metadata": {},
   "source": [
    "-----------------------------------------"
   ]
  },
  {
   "cell_type": "markdown",
   "metadata": {},
   "source": [
    "Import the necessary packages"
   ]
  },
  {
   "cell_type": "code",
   "execution_count": 53,
   "metadata": {},
   "outputs": [],
   "source": [
    "import obspy\n",
    "from obspy import read_events\n",
    "from obspy.clients.syngine import Client\n",
    "from obspy import UTCDateTime\n",
    "import os\n",
    "from geopy.distance import distance\n",
    "from geopy import Point\n",
    "import pandas as pd\n",
    "from matplotlib import pyplot as pplot"
   ]
  },
  {
   "cell_type": "code",
   "execution_count": 54,
   "metadata": {},
   "outputs": [],
   "source": [
    "def generate_synthetics(event_lat, event_lon, mt, model,source_depth_in_km,origin_time,components,units,duration,directory):\n",
    "    \n",
    "    mrr, mtt, mpp, mrt, mrp, mtp = mt\n",
    "    \n",
    "    event_location = Point(event_lat, event_lon)\n",
    "    stations = []\n",
    "    network = 'SY'\n",
    "    \n",
    "    distances = list(range(5, 16, 5))\n",
    "    backazimuths = list(range(0, 91, 45))\n",
    "    \n",
    "    for dist in(distances):\n",
    "        for baz in(backazimuths):\n",
    "            station = 'SD' + str(dist).zfill(3) + 'B' + str(baz).zfill(3)\n",
    "            event_location = Point(event_lat, event_lon)\n",
    "            station_location = distance(kilometers=dist * 111.32).destination(event_location, baz)\n",
    "            stations.append({\n",
    "                \"Epicentral_Distance\": dist,\n",
    "                \"Azimuth\": baz,\n",
    "                \"Station_Latitude\": station_location.latitude,\n",
    "                \"Station_Longitude\": station_location.longitude\n",
    "            })\n",
    "            \n",
    "            depthinm = source_depth_in_km * 1000\n",
    "            etime = origin_time + duration\n",
    "            \n",
    "            filename = network + '.' + station + '.mseed'\n",
    "            filepath = directory + '/' + filename\n",
    "            \n",
    "            client = Client()\n",
    "            \n",
    "            st = client.get_waveforms(model=model, \n",
    "                                      receiverlatitude=station_location.latitude, \n",
    "                                      receiverlongitude=station_location.longitude,\n",
    "                                      sourcelatitude=event_location.latitude, \n",
    "                                      sourcelongitude=event_location.longitude, \n",
    "                                      sourcedepthinmeters=depthinm, \n",
    "                                      sourcemomenttensor=[mrr, mtt, mpp, mrt, mrp, mtp], \n",
    "                                      origintime=origin_time, \n",
    "                                      starttime=origin_time, \n",
    "                                      endtime=etime, \n",
    "                                      components=components, \n",
    "                                      units=units, \n",
    "                                      format='miniseed',\n",
    "                                      filename=filepath\n",
    "                                      )\n",
    "            "
   ]
  },
  {
   "cell_type": "code",
   "execution_count": 55,
   "metadata": {},
   "outputs": [],
   "source": [
    "SyntDir = 'Synthetics' + str(threshold)\n",
    "os.makedirs(SyntDir, exist_ok=True)\n",
    "client = Client()"
   ]
  },
  {
   "cell_type": "markdown",
   "metadata": {},
   "source": [
    "Start with the Strike-slip Catalog"
   ]
  },
  {
   "cell_type": "code",
   "execution_count": null,
   "metadata": {},
   "outputs": [],
   "source": [
    "cmtsismofilename1 = 'Catalogs/CMTSOLUTIONS_Strikeslip_' + str(threshold)\n",
    "syntsdirectory = SyntDir + '/Strikeslip'\n",
    "\n",
    "\n",
    "os.makedirs(syntsdirectory, exist_ok=True)\n",
    "\n",
    "catcmt = read_events(cmtsismofilename1)\n",
    "for e in range (0, len(catcmt)):\n",
    "    moment_tensor = catcmt[e].focal_mechanisms[0].moment_tensor;\n",
    "    quake_name = catcmt[0].event_descriptions[0].text\n",
    "    eventlon = catcmt[e].origins[0].longitude;\n",
    "    eventlat = catcmt[e].origins[0].latitude;\n",
    "    eventdepth = catcmt[e].origins[0].depth/1000;\n",
    "    starttime = catcmt[e].origins[0].time;\n",
    "    region = catcmt[e].origins[0].region;\n",
    "    eventmag = catcmt[e].magnitudes[0].mag;\n",
    "    mrr = moment_tensor.tensor.m_rr;\n",
    "    mtt = moment_tensor.tensor.m_tt;\n",
    "    mpp = moment_tensor.tensor.m_pp;\n",
    "    mrt = moment_tensor.tensor.m_rt;\n",
    "    mrp = moment_tensor.tensor.m_rp;\n",
    "    mtp = moment_tensor.tensor.m_tp;\n",
    "    mt = [mrr, mtt, mpp, mrt, mrp, mtp];\n",
    "    client = Client(\"IRIS\")\n",
    "    eventid = 'M' + str(starttime.year).zfill(4) + str(starttime.month).zfill(2) + str(starttime.day).zfill(2) + str(starttime.hour).zfill(2) + str(starttime.minute).zfill(2) + str(starttime.second).zfill(2)\n",
    "    eventdirectory = syntsdirectory + '/' + eventid\n",
    "    os.makedirs(eventdirectory, exist_ok=True)\n",
    "    \n",
    "    generate_synthetics(eventlat, eventlon, mt, synt_model,eventdepth,starttime,components,units,duration,eventdirectory)"
   ]
  },
  {
   "cell_type": "code",
   "execution_count": null,
   "metadata": {},
   "outputs": [],
   "source": [
    "cmtsismofilename1 = 'Catalogs/CMTSOLUTIONS_Normal_' + str(threshold)\n",
    "syntsdirectory = SyntDir + '/Normal'\n",
    "\n",
    "\n",
    "os.makedirs(syntsdirectory, exist_ok=True)\n",
    "\n",
    "catcmt = read_events(cmtsismofilename1)\n",
    "for e in range (0, len(catcmt)):\n",
    "    moment_tensor = catcmt[e].focal_mechanisms[0].moment_tensor;\n",
    "    quake_name = catcmt[0].event_descriptions[0].text\n",
    "    eventlon = catcmt[e].origins[0].longitude;\n",
    "    eventlat = catcmt[e].origins[0].latitude;\n",
    "    eventdepth = catcmt[e].origins[0].depth/1000;\n",
    "    starttime = catcmt[e].origins[0].time;\n",
    "    region = catcmt[e].origins[0].region;\n",
    "    eventmag = catcmt[e].magnitudes[0].mag;\n",
    "    mrr = moment_tensor.tensor.m_rr;\n",
    "    mtt = moment_tensor.tensor.m_tt;\n",
    "    mpp = moment_tensor.tensor.m_pp;\n",
    "    mrt = moment_tensor.tensor.m_rt;\n",
    "    mrp = moment_tensor.tensor.m_rp;\n",
    "    mtp = moment_tensor.tensor.m_tp;\n",
    "    mt = [mrr, mtt, mpp, mrt, mrp, mtp];\n",
    "    client = Client(\"IRIS\")\n",
    "    eventid = 'M' + str(starttime.year).zfill(4) + str(starttime.month).zfill(2) + str(starttime.day).zfill(2) + str(starttime.hour).zfill(2) + str(starttime.minute).zfill(2) + str(starttime.second).zfill(2)\n",
    "    eventdirectory = syntsdirectory + '/' + eventid\n",
    "    os.makedirs(eventdirectory, exist_ok=True)\n",
    "    \n",
    "    generate_synthetics(eventlat, eventlon, mt, synt_model,eventdepth,starttime,components,units,duration,eventdirectory)"
   ]
  },
  {
   "cell_type": "code",
   "execution_count": null,
   "metadata": {},
   "outputs": [],
   "source": [
    "cmtsismofilename1 = 'Catalogs/CMTSOLUTIONS_Reverse_' + str(threshold)\n",
    "syntsdirectory = SyntDir + '/Reverse'\n",
    "\n",
    "\n",
    "os.makedirs(syntsdirectory, exist_ok=True)\n",
    "\n",
    "catcmt = read_events(cmtsismofilename1)\n",
    "for e in range (0, len(catcmt)):\n",
    "    moment_tensor = catcmt[e].focal_mechanisms[0].moment_tensor;\n",
    "    quake_name = catcmt[0].event_descriptions[0].text\n",
    "    eventlon = catcmt[e].origins[0].longitude;\n",
    "    eventlat = catcmt[e].origins[0].latitude;\n",
    "    eventdepth = catcmt[e].origins[0].depth/1000;\n",
    "    starttime = catcmt[e].origins[0].time;\n",
    "    region = catcmt[e].origins[0].region;\n",
    "    eventmag = catcmt[e].magnitudes[0].mag;\n",
    "    mrr = moment_tensor.tensor.m_rr;\n",
    "    mtt = moment_tensor.tensor.m_tt;\n",
    "    mpp = moment_tensor.tensor.m_pp;\n",
    "    mrt = moment_tensor.tensor.m_rt;\n",
    "    mrp = moment_tensor.tensor.m_rp;\n",
    "    mtp = moment_tensor.tensor.m_tp;\n",
    "    mt = [mrr, mtt, mpp, mrt, mrp, mtp];\n",
    "    client = Client(\"IRIS\")\n",
    "    eventid = 'M' + str(starttime.year).zfill(4) + str(starttime.month).zfill(2) + str(starttime.day).zfill(2) + str(starttime.hour).zfill(2) + str(starttime.minute).zfill(2) + str(starttime.second).zfill(2)\n",
    "    eventdirectory = syntsdirectory + '/' + eventid\n",
    "    os.makedirs(eventdirectory, exist_ok=True)\n",
    "    \n",
    "    generate_synthetics(eventlat, eventlon, mt, synt_model,eventdepth,starttime,components,units,duration,eventdirectory)"
   ]
  },
  {
   "cell_type": "code",
   "execution_count": null,
   "metadata": {},
   "outputs": [],
   "source": [
    "cmtsismofilename1 = 'Catalogs/CMTSOLUTIONS_Unclassified_' + str(threshold)\n",
    "syntsdirectory = SyntDir + '/Unclassified'\n",
    "\n",
    "\n",
    "os.makedirs(syntsdirectory, exist_ok=True)\n",
    "\n",
    "catcmt = read_events(cmtsismofilename1)\n",
    "for e in range (0, len(catcmt)):\n",
    "    moment_tensor = catcmt[e].focal_mechanisms[0].moment_tensor;\n",
    "    quake_name = catcmt[0].event_descriptions[0].text\n",
    "    eventlon = catcmt[e].origins[0].longitude;\n",
    "    eventlat = catcmt[e].origins[0].latitude;\n",
    "    eventdepth = catcmt[e].origins[0].depth/1000;\n",
    "    starttime = catcmt[e].origins[0].time;\n",
    "    region = catcmt[e].origins[0].region;\n",
    "    eventmag = catcmt[e].magnitudes[0].mag;\n",
    "    mrr = moment_tensor.tensor.m_rr;\n",
    "    mtt = moment_tensor.tensor.m_tt;\n",
    "    mpp = moment_tensor.tensor.m_pp;\n",
    "    mrt = moment_tensor.tensor.m_rt;\n",
    "    mrp = moment_tensor.tensor.m_rp;\n",
    "    mtp = moment_tensor.tensor.m_tp;\n",
    "    mt = [mrr, mtt, mpp, mrt, mrp, mtp];\n",
    "    client = Client(\"IRIS\")\n",
    "    eventid = 'M' + str(starttime.year).zfill(4) + str(starttime.month).zfill(2) + str(starttime.day).zfill(2) + str(starttime.hour).zfill(2) + str(starttime.minute).zfill(2) + str(starttime.second).zfill(2)\n",
    "    eventdirectory = syntsdirectory + '/' + eventid\n",
    "    os.makedirs(eventdirectory, exist_ok=True)\n",
    "    \n",
    "    generate_synthetics(eventlat, eventlon, mt, synt_model,eventdepth,starttime,components,units,duration,eventdirectory)"
   ]
  }
 ],
 "metadata": {
  "kernelspec": {
   "display_name": "sismo",
   "language": "python",
   "name": "python3"
  },
  "language_info": {
   "codemirror_mode": {
    "name": "ipython",
    "version": 3
   },
   "file_extension": ".py",
   "mimetype": "text/x-python",
   "name": "python",
   "nbconvert_exporter": "python",
   "pygments_lexer": "ipython3",
   "version": "3.10.14"
  }
 },
 "nbformat": 4,
 "nbformat_minor": 2
}
